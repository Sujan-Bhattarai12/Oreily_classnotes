{
 "cells": [
  {
   "cell_type": "code",
   "execution_count": null,
   "metadata": {},
   "outputs": [],
   "source": [
    "##Under the hood, csv data is working this way in pandas dataframe\n",
    "##But since we directly use pd.Dataframe directly we don't have need to remember this syntax\n",
    "##but always the best to know how pd.Dataframe is working underneath\n",
    "\n",
    "with open('data.csv', mode = 'r', new_line=\" \") as d:\n",
    "    print (f'{'index': <10}{'color':<10}{'grade':>10}')\n",
    "    for i in data:\n",
    "        index, color, grade = i\n",
    "        print (f'{index: <10}{color:<10}{grade:>10}')"
   ]
  },
  {
   "cell_type": "code",
   "execution_count": 20,
   "metadata": {},
   "outputs": [
    {
     "name": "stdout",
     "output_type": "stream",
     "text": [
      "50\n",
      "30\n",
      "monday\n",
      "50\n"
     ]
    }
   ],
   "source": [
    "high_low = (('sunday', 30), ('monday', 50))\n",
    "type(high_low)\n",
    "\n",
    "print(high_low[1][1])\n",
    "print(high_low[0][1])\n",
    "\n",
    "day, high = high_low[1]\n",
    "print(day)\n",
    "print(high)"
   ]
  },
  {
   "cell_type": "code",
   "execution_count": 25,
   "metadata": {},
   "outputs": [
    {
     "name": "stdout",
     "output_type": "stream",
     "text": [
      "0         cake      \n",
      "1         apple_pie \n",
      "2         black forest\n"
     ]
    }
   ],
   "source": [
    "bakery = [\"cake\", \"apple_pie\", \"black forest\"]\n",
    "for i, cake in enumerate(bakery):\n",
    "    print(f'{i:<10}{cake:<10}')"
   ]
  },
  {
   "cell_type": "code",
   "execution_count": null,
   "metadata": {},
   "outputs": [],
   "source": []
  },
  {
   "cell_type": "code",
   "execution_count": null,
   "metadata": {},
   "outputs": [],
   "source": []
  },
  {
   "cell_type": "code",
   "execution_count": null,
   "metadata": {},
   "outputs": [],
   "source": []
  },
  {
   "cell_type": "code",
   "execution_count": null,
   "metadata": {},
   "outputs": [],
   "source": []
  },
  {
   "cell_type": "code",
   "execution_count": null,
   "metadata": {},
   "outputs": [],
   "source": []
  }
 ],
 "metadata": {
  "kernelspec": {
   "display_name": "base",
   "language": "python",
   "name": "python3"
  },
  "language_info": {
   "codemirror_mode": {
    "name": "ipython",
    "version": 3
   },
   "file_extension": ".py",
   "mimetype": "text/x-python",
   "name": "python",
   "nbconvert_exporter": "python",
   "pygments_lexer": "ipython3",
   "version": "3.8.8"
  },
  "orig_nbformat": 4
 },
 "nbformat": 4,
 "nbformat_minor": 2
}
