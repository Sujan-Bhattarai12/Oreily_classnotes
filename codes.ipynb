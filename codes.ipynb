{
 "cells": [
  {
   "cell_type": "code",
   "execution_count": 25,
   "metadata": {},
   "outputs": [],
   "source": [
    "##this plots the graph inline in notebook\n",
    "%matplotlib inline"
   ]
  },
  {
   "cell_type": "code",
   "execution_count": 26,
   "metadata": {},
   "outputs": [],
   "source": [
    "import matplotlib.pyplot as plt\n",
    "import numpy as np\n",
    "import random\n",
    "import seaborn as sns"
   ]
  },
  {
   "cell_type": "code",
   "execution_count": 27,
   "metadata": {},
   "outputs": [
    {
     "name": "stdout",
     "output_type": "stream",
     "text": [
      "[4, 1, 5, 3, 1, 1, 4, 5, 5, 3, 4, 3, 4, 2, 5, 5, 4, 1, 5, 3, 3, 5, 6, 1, 2, 6, 3, 4, 6, 1, 6, 1, 1, 3, 4, 6, 6, 2, 3, 4, 6, 3, 4, 2, 4, 2, 5, 1, 3, 6, 5, 1, 3, 4, 2, 5, 4, 4, 3, 4, 5, 3, 2, 4, 3, 4, 4, 4, 6, 2, 6, 4, 6, 4, 6, 4, 1, 2, 5, 6, 4, 4, 2, 1, 5, 4, 6, 3, 2, 4, 6, 4, 3, 2, 1, 2, 4, 3, 3, 1, 6, 6, 5, 6, 1, 1, 1, 1, 4, 5, 5, 4, 1, 4, 2, 1, 3, 1, 4, 3, 5, 1, 2, 3, 3, 5, 5, 6, 6, 4, 2, 4, 2, 6, 6, 2, 3, 6, 1, 5, 5, 5, 6, 5, 4, 1, 4, 4, 3, 3, 3, 6, 3, 5, 3, 1, 1, 6, 3, 6, 2, 4, 3, 2, 6, 6, 5, 4, 2, 1, 1, 3, 4, 2, 4, 6, 4, 2, 4, 1, 6, 2, 1, 4, 1, 2, 5, 2, 6, 1, 4, 6, 5, 1, 2, 5, 5, 4, 5, 3, 1, 3, 1, 3, 6, 2, 4, 6, 1, 5, 5, 4, 4, 4, 2, 6, 1, 4, 4, 2, 1, 1, 6, 2, 6, 5, 5, 5, 4, 2, 6, 4, 5, 4, 5, 2, 2, 1, 6, 5, 1, 6, 5, 2, 2, 5, 5, 6, 6, 1, 1, 5, 6, 5, 5, 4, 4, 5, 2, 1, 5, 5, 4, 2, 6, 2, 2, 5, 5, 4, 1, 5, 5, 6, 2, 4, 2, 1, 6, 4, 6, 5, 6, 2, 5, 5, 3, 6, 2, 3, 6, 5, 5, 6, 2, 3, 1, 4, 5, 2, 5, 4, 2, 1, 2, 2, 5, 4, 6, 2, 6, 1, 4, 1, 3, 6, 4, 3, 6, 3, 4, 2, 1, 1, 6, 6, 6, 3, 1, 6, 6, 4, 2, 4, 4, 1, 4, 6, 5, 5, 3, 1, 4, 6, 6, 1, 1, 6, 3, 2, 1, 4, 4, 2, 1, 5, 6, 1, 3, 2, 3, 3, 6, 6, 5, 1, 6, 5, 1, 3, 6, 4, 1, 3, 2, 1, 6, 1, 1, 6, 5, 3, 6, 2, 4, 1, 3, 6, 6, 3, 1, 2, 4, 3, 5, 2, 1, 2, 5, 6, 6, 4, 5, 1, 4, 3, 6, 2, 6, 5, 6, 5, 6, 5, 4, 5, 4, 4, 4, 5, 6, 3, 4, 3, 5, 2, 1, 4, 1, 3, 3, 2, 1, 1, 3, 4, 2, 5, 3, 6, 5, 1, 5, 3, 2, 2, 5, 1, 4, 6, 1, 5, 5, 4, 3, 3, 3, 5, 1, 6, 2, 4, 2, 3, 5, 3, 2, 6, 6, 5, 2, 6, 5, 2, 1, 4, 5, 6, 5, 3, 3, 1, 1, 2, 1, 4, 2, 2, 3, 1, 3, 6, 1, 2, 3, 5, 2, 3, 4, 3, 2, 6, 6, 6, 3, 4, 4, 6, 1, 1, 4, 6, 4, 6, 5, 4, 4, 2, 5, 3, 4, 1, 4, 3, 2, 5, 6, 2, 1, 5, 1, 6, 3, 4, 4, 3, 4, 5, 1, 5, 5, 4, 6, 1, 3, 2, 1, 2, 6, 6, 3, 4, 5, 5, 3, 5, 5, 5, 1, 6, 2, 6, 6, 1, 2, 3, 3, 3, 1, 4, 3, 5, 4, 5, 5, 2, 4, 2, 6, 3, 4, 2, 3, 2, 3, 3, 5, 5, 6, 3, 3, 1, 1, 6, 1, 4, 4, 2, 6, 3]\n"
     ]
    }
   ],
   "source": [
    "#list comprehension for rolling a die 600 times, considering\n",
    "# no bias exists between the occurence of any face\n",
    "\n",
    "##remeber numpy array is much better than list \n",
    "rolls = [random.randrange(1, 7) for i in range(600)]\n",
    "print(rolls)"
   ]
  },
  {
   "cell_type": "code",
   "execution_count": 4,
   "metadata": {},
   "outputs": [
    {
     "data": {
      "text/plain": [
       "(0.0, 228.0)"
      ]
     },
     "execution_count": 4,
     "metadata": {},
     "output_type": "execute_result"
    },
    {
     "data": {
      "image/png": "[encoded data removed]",
      "text/plain": [
       "<Figure size 432x288 with 1 Axes>"
      ]
     },
     "metadata": {},
     "output_type": "display_data"
    }
   ],
   "source": [
    "\n",
    "#unique counts the unique values, and return_counts count occurence of each one\n",
    "values, frequency = np.unique(rolls, return_counts = True)\n",
    "title  = f\"Rolling a die {len(rolls)} times\"\n",
    "sns.set_style(\"whitegrid\")\n",
    "axes = sns.barplot(x=values, \n",
    "                   y=frequency)\n",
    "axes.set_title(title)\n",
    "axes.set(xlabel =\"Die value\",\n",
    "         ylabel = \"Frequency\")\n",
    "axes.set_ylim(top=max(frequency* 2))"
   ]
  },
  {
   "cell_type": "code",
   "execution_count": 29,
   "metadata": {},
   "outputs": [],
   "source": [
    "##this function rerun previous cell \n",
    "%recall 4"
   ]
  },
  {
   "cell_type": "code",
   "execution_count": 6,
   "metadata": {},
   "outputs": [],
   "source": [
    "rolls = [random.randrange(1, 7) for i in range(60000)]"
   ]
  },
  {
   "cell_type": "code",
   "execution_count": 7,
   "metadata": {},
   "outputs": [
    {
     "data": {
      "image/png": "[encoded data removed]",
      "text/plain": [
       "<Figure size 432x288 with 1 Axes>"
      ]
     },
     "metadata": {},
     "output_type": "display_data"
    }
   ],
   "source": [
    "#clears the plot\n",
    "plt.cla()"
   ]
  },
  {
   "cell_type": "code",
   "execution_count": 8,
   "metadata": {},
   "outputs": [
    {
     "name": "stdout",
     "output_type": "stream",
     "text": [
      "Couldn't evaluate or find in history: 24\n"
     ]
    }
   ],
   "source": [
    "#recall snippet 24\n",
    "%recall 24"
   ]
  },
  {
   "cell_type": "code",
   "execution_count": 9,
   "metadata": {},
   "outputs": [
    {
     "data": {
      "text/plain": [
       "(0.0, 20224.0)"
      ]
     },
     "execution_count": 9,
     "metadata": {},
     "output_type": "execute_result"
    },
    {
     "data": {
      "image/png": "[encoded data removed]",
      "text/plain": [
       "<Figure size 432x288 with 1 Axes>"
      ]
     },
     "metadata": {},
     "output_type": "display_data"
    }
   ],
   "source": [
    "\n",
    "#unique counts the unique values, and return_counts count occurence of each one\n",
    "values, frequency = np.unique(rolls, return_counts = True)\n",
    "title  = f\"Rolling a die {len(rolls)} times\"\n",
    "sns.set_style(\"whitegrid\")\n",
    "axes = sns.barplot(x=values, \n",
    "                   y=frequency, \n",
    "                   )\n",
    "axes.set_title(title)\n",
    "axes.set(xlabel =\"Die value\",\n",
    "         ylabel = \"Frequency\")\n",
    "axes.set_ylim(top=max(frequency* 2))"
   ]
  },
  {
   "cell_type": "code",
   "execution_count": 10,
   "metadata": {},
   "outputs": [
    {
     "name": "stdout",
     "output_type": "stream",
     "text": [
      "Operation cancelled.\n"
     ]
    }
   ],
   "source": [
    "#save snippet starting from 1 to 29\n",
    "%save graph.py 1-29\n"
   ]
  },
  {
   "cell_type": "code",
   "execution_count": 7,
   "metadata": {},
   "outputs": [
    {
     "name": "stdout",
     "output_type": "stream",
     "text": [
      "868 ms ± 34.5 ms per loop (mean ± std. dev. of 7 runs, 1 loop each)\n",
      "16 ms ± 654 µs per loop (mean ± std. dev. of 7 runs, 100 loops each)\n"
     ]
    }
   ],
   "source": [
    "##working with numpy arrays, they are faster %timeit measures time\n",
    "##involved\n",
    "%timeit sum([x for x in range(10000000)])\n",
    "\n",
    "%timeit np.arange(10000000).sum()"
   ]
  },
  {
   "cell_type": "code",
   "execution_count": 14,
   "metadata": {},
   "outputs": [
    {
     "data": {
      "text/plain": [
       "array([2, 6])"
      ]
     },
     "execution_count": 14,
     "metadata": {},
     "output_type": "execute_result"
    }
   ],
   "source": [
    "##broadcasting with array\n",
    "np.array([1, 2]) * np.array([2,3])"
   ]
  },
  {
   "cell_type": "code",
   "execution_count": 20,
   "metadata": {},
   "outputs": [
    {
     "data": {
      "text/plain": [
       "75.16666666666667"
      ]
     },
     "execution_count": 20,
     "metadata": {},
     "output_type": "execute_result"
    }
   ],
   "source": [
    "##zero axis in array is column axis\n",
    "##one axis in array is row axis\n",
    "\n",
    "grades = np.random.randint(60, 100, 12).reshape(3,4)\n",
    "grades.mean()"
   ]
  },
  {
   "cell_type": "code",
   "execution_count": 22,
   "metadata": {},
   "outputs": [
    {
     "data": {
      "text/plain": [
       "array([77.        , 72.        , 75.33333333, 76.33333333])"
      ]
     },
     "execution_count": 22,
     "metadata": {},
     "output_type": "execute_result"
    }
   ],
   "source": [
    "grades.mean(axis = 0)"
   ]
  },
  {
   "cell_type": "code",
   "execution_count": 43,
   "metadata": {},
   "outputs": [
    {
     "name": "stdout",
     "output_type": "stream",
     "text": [
      "69\n",
      "[83 65 75 75]\n",
      "[[75 69 63 93]\n",
      " [83 65 75 75]]\n",
      "[[75 69 63 93]\n",
      " [73 82 88 61]]\n",
      "[75 83 73]\n",
      "[[69]\n",
      " [65]\n",
      " [82]]\n",
      "[[75 63]\n",
      " [83 75]\n",
      " [73 88]]\n"
     ]
    }
   ],
   "source": [
    "##indexing and slicing\n",
    "print(grades[0,1]) #pick first column secon row value\n",
    "print(grades[1])   #pick first row\n",
    "print(grades[0:2]) #pick first and second row\n",
    "print(grades[[0, 2]]) #pick row 1 and row 3, used for non-contigious\n",
    "print(grades[:, 0]) #all row first column\n",
    "print(grades[:, 1:2]) #all row, first and second column\n",
    "print(grades[:, [0,2]]) #all row and first and third column, used for non continious selection"
   ]
  },
  {
   "cell_type": "code",
   "execution_count": 44,
   "metadata": {},
   "outputs": [],
   "source": [
    "##Shallow copies and deep copies\n",
    "#In shallow copies modification is seen in both original and copy\n",
    "#in deep copy, a phyiscally different object is made\n",
    "\n",
    "#slicing, indexing creat shallow copy\n",
    "#using copy function or deepcopy function from copy module creates deep copy\n"
   ]
  },
  {
   "cell_type": "code",
   "execution_count": null,
   "metadata": {},
   "outputs": [],
   "source": [
    "#reshape and resize\n",
    "\n",
    "#reshape only changes the view, does not transform the data\n",
    "# resize transfroms the data"
   ]
  },
  {
   "cell_type": "code",
   "execution_count": 46,
   "metadata": {},
   "outputs": [
    {
     "name": "stdout",
     "output_type": "stream",
     "text": [
      "[75 69 63 93 83 65 75 75 73 82 88 61]\n",
      "[[75 69 63 93]\n",
      " [83 65 75 75]\n",
      " [73 82 88 61]]\n"
     ]
    }
   ],
   "source": [
    "##flatten and ravel changes array to one dimensianal\n",
    "#flatten does shallow copy\n",
    "#ravel does deep copy\n",
    "\n",
    "print(grades.flatten())\n",
    "print(grades)\n"
   ]
  },
  {
   "cell_type": "code",
   "execution_count": 49,
   "metadata": {},
   "outputs": [
    {
     "name": "stdout",
     "output_type": "stream",
     "text": [
      "[[75 83 73]\n",
      " [69 65 82]\n",
      " [63 75 88]\n",
      " [93 75 61]]\n",
      "[[75 83 73]\n",
      " [69 65 82]\n",
      " [63 75 88]\n",
      " [93 75 61]]\n"
     ]
    }
   ],
   "source": [
    "#transposing column and rows\n",
    "\n",
    "print(grades.transpose())\n",
    "print(grades.T)"
   ]
  },
  {
   "cell_type": "code",
   "execution_count": null,
   "metadata": {},
   "outputs": [],
   "source": [
    "##horizontal and vertical stacking \n",
    "np.hstack((a, a))\n",
    "np.vstack((a, a))"
   ]
  },
  {
   "cell_type": "code",
   "execution_count": null,
   "metadata": {},
   "outputs": [],
   "source": [
    "##pandas dataframe has index by defualt\n",
    "##if you want to select specific rows, you can use loc and iloc\n",
    "##loc is used if you use named index\n",
    "##iloc is used if you use index"
   ]
  }
 ],
 "metadata": {
  "kernelspec": {
   "display_name": "base",
   "language": "python",
   "name": "python3"
  },
  "language_info": {
   "codemirror_mode": {
    "name": "ipython",
    "version": 3
   },
   "file_extension": ".py",
   "mimetype": "text/x-python",
   "name": "python",
   "nbconvert_exporter": "python",
   "pygments_lexer": "ipython3",
   "version": "3.8.8"
  },
  "orig_nbformat": 4
 },
 "nbformat": 4,
 "nbformat_minor": 2
}
