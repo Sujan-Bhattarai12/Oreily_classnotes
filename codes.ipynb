{
 "cells": [
  {
   "cell_type": "code",
   "execution_count": 2,
   "metadata": {},
   "outputs": [],
   "source": [
    "##this plots the graph inline in notebook\n",
    "%matplotlib inline"
   ]
  },
  {
   "cell_type": "code",
   "execution_count": 3,
   "metadata": {},
   "outputs": [],
   "source": [
    "import matplotlib.pyplot as plt\n",
    "import numpy as np\n",
    "import random\n",
    "import seaborn as sns"
   ]
  },
  {
   "cell_type": "code",
   "execution_count": 4,
   "metadata": {},
   "outputs": [
    {
     "name": "stdout",
     "output_type": "stream",
     "text": [
      "[2, 6, 6, 6, 4, 3, 5, 1, 2, 4, 3, 3, 5, 2, 3, 6, 5, 6, 1, 5, 6, 6, 2, 2, 6, 4, 1, 3, 2, 1, 4, 3, 6, 3, 1, 4, 5, 3, 6, 5, 5, 2, 4, 5, 5, 5, 6, 3, 1, 4, 5, 2, 6, 1, 1, 5, 6, 3, 6, 1, 3, 5, 2, 1, 4, 6, 4, 3, 5, 3, 2, 2, 2, 2, 1, 5, 4, 5, 1, 2, 2, 1, 3, 3, 3, 5, 4, 4, 1, 2, 6, 5, 6, 1, 3, 6, 5, 3, 5, 2, 5, 2, 2, 5, 3, 5, 4, 4, 3, 2, 3, 6, 3, 2, 1, 3, 5, 3, 2, 6, 2, 4, 4, 5, 2, 3, 2, 5, 3, 6, 3, 4, 2, 5, 2, 5, 5, 2, 1, 5, 2, 5, 3, 3, 2, 3, 6, 4, 5, 1, 2, 1, 1, 6, 4, 6, 3, 1, 3, 3, 1, 3, 6, 6, 3, 5, 4, 3, 2, 5, 1, 2, 3, 5, 4, 5, 2, 1, 4, 2, 4, 5, 6, 6, 1, 6, 6, 3, 2, 3, 5, 5, 5, 1, 2, 5, 1, 2, 4, 1, 6, 4, 3, 4, 1, 1, 2, 5, 4, 3, 3, 3, 4, 2, 3, 5, 5, 5, 5, 5, 4, 4, 4, 1, 3, 1, 1, 2, 3, 2, 6, 6, 3, 4, 3, 4, 4, 5, 6, 6, 3, 4, 1, 4, 6, 5, 1, 1, 2, 5, 6, 1, 1, 6, 2, 6, 6, 5, 1, 5, 1, 4, 2, 4, 2, 4, 3, 1, 6, 2, 5, 4, 5, 1, 6, 5, 1, 3, 3, 1, 5, 3, 3, 6, 4, 2, 3, 1, 5, 6, 2, 2, 2, 3, 1, 2, 3, 3, 6, 2, 4, 2, 2, 3, 2, 2, 1, 2, 1, 3, 6, 1, 6, 6, 2, 5, 6, 2, 3, 3, 6, 2, 4, 1, 1, 1, 3, 4, 5, 2, 3, 1, 6, 6, 6, 6, 2, 4, 3, 3, 3, 5, 6, 3, 2, 1, 3, 1, 2, 1, 6, 5, 3, 5, 1, 6, 5, 5, 6, 5, 3, 5, 5, 6, 6, 1, 2, 1, 4, 1, 6, 6, 6, 3, 4, 3, 5, 4, 3, 4, 5, 3, 2, 4, 2, 3, 2, 4, 3, 3, 1, 5, 6, 4, 1, 1, 6, 3, 6, 6, 3, 4, 1, 4, 3, 2, 3, 2, 3, 6, 4, 3, 3, 1, 5, 1, 1, 3, 2, 4, 2, 5, 1, 5, 1, 3, 3, 2, 1, 3, 6, 5, 2, 3, 1, 4, 3, 4, 1, 1, 3, 1, 2, 3, 2, 6, 5, 4, 1, 3, 1, 3, 2, 6, 5, 6, 3, 5, 1, 5, 5, 3, 1, 6, 6, 5, 1, 6, 1, 1, 2, 6, 4, 3, 5, 1, 1, 4, 5, 6, 4, 4, 3, 1, 1, 1, 5, 2, 1, 1, 2, 2, 2, 4, 1, 2, 5, 4, 5, 6, 5, 3, 3, 3, 5, 6, 6, 5, 2, 2, 6, 5, 5, 6, 4, 3, 3, 2, 6, 6, 2, 5, 2, 1, 2, 6, 1, 2, 2, 3, 1, 4, 6, 6, 1, 1, 6, 5, 4, 1, 6, 3, 4, 3, 3, 1, 6, 6, 6, 6, 5, 5, 5, 5, 4, 6, 4, 1, 4, 1, 6, 1, 2, 4, 2, 6, 5, 3, 5, 5, 3, 3, 6, 5, 4, 5, 5, 1, 6, 2, 5, 5, 6, 1, 3, 6, 2, 5, 1, 3, 4, 3, 4, 6, 5, 4, 1, 1, 3, 4]\n"
     ]
    }
   ],
   "source": [
    "#list comprehension for rolling a die 600 times, considering\n",
    "# no bias exists between the occurence of any face\n",
    "\n",
    "##remeber numpy array is much better than list \n",
    "rolls = [random.randrange(1, 7) for i in range(600)]\n",
    "print(rolls)"
   ]
  },
  {
   "cell_type": "code",
   "execution_count": 5,
   "metadata": {},
   "outputs": [
    {
     "data": {
      "text/plain": [
       "(0.0, 230.0)"
      ]
     },
     "execution_count": 5,
     "metadata": {},
     "output_type": "execute_result"
    },
    {
     "data": {
      "image/png": "[encoded data removed]",
      "text/plain": [
       "<Figure size 432x288 with 1 Axes>"
      ]
     },
     "metadata": {},
     "output_type": "display_data"
    }
   ],
   "source": [
    "\n",
    "#unique counts the unique values, and return_counts count occurence of each one\n",
    "values, frequency = np.unique(rolls, return_counts = True)\n",
    "title  = f\"Rolling a die {len(rolls)} times\"\n",
    "sns.set_style(\"whitegrid\")\n",
    "axes = sns.barplot(x=values, \n",
    "                   y=frequency)\n",
    "axes.set_title(title)\n",
    "axes.set(xlabel =\"Die value\",\n",
    "         ylabel = \"Frequency\")\n",
    "axes.set_ylim(top=max(frequency* 2))"
   ]
  },
  {
   "cell_type": "code",
   "execution_count": 6,
   "metadata": {},
   "outputs": [],
   "source": [
    "##this function rerun previous cell \n",
    "%recall 4"
   ]
  },
  {
   "cell_type": "code",
   "execution_count": null,
   "metadata": {},
   "outputs": [],
   "source": [
    "#list comprehension for rolling a die 600 times, considering\n",
    "# no bias exists between the occurence of any face\n",
    "\n",
    "##remeber numpy array is much better than list \n",
    "rolls = [random.randrange(1, 7) for i in range(600)]\n",
    "print(rolls)"
   ]
  },
  {
   "cell_type": "code",
   "execution_count": 7,
   "metadata": {},
   "outputs": [
    {
     "name": "stdout",
     "output_type": "stream",
     "text": [
      "[6, 2, 2, 6, 4, 1, 1, 5, 6, 1, 4, 2, 5, 4, 2, 6, 5, 5, 1, 2, 1, 4, 2, 1, 3, 2, 3, 4, 1, 4, 5, 2, 4, 6, 3, 4, 6, 5, 2, 1, 2, 2, 6, 6, 3, 1, 3, 3, 3, 2, 4, 5, 1, 5, 2, 1, 1, 3, 5, 3, 5, 1, 4, 3, 1, 5, 2, 2, 3, 2, 5, 1, 5, 1, 4, 1, 6, 1, 5, 1, 2, 3, 2, 5, 1, 3, 5, 4, 2, 2, 1, 5, 1, 5, 3, 2, 4, 3, 3, 4, 3, 1, 3, 1, 2, 1, 6, 1, 6, 6, 6, 1, 3, 4, 3, 3, 1, 3, 4, 5, 4, 5, 2, 6, 3, 1, 2, 4, 4, 6, 6, 1, 2, 6, 2, 4, 6, 3, 5, 4, 3, 5, 1, 2, 5, 6, 4, 6, 3, 5, 2, 4, 2, 5, 5, 6, 2, 4, 6, 1, 6, 1, 3, 2, 5, 4, 6, 1, 2, 3, 4, 1, 6, 3, 1, 6, 5, 4, 4, 1, 3, 6, 3, 2, 1, 5, 3, 2, 6, 6, 1, 3, 2, 2, 3, 1, 5, 4, 6, 5, 5, 5, 6, 4, 6, 4, 6, 2, 1, 6, 4, 2, 5, 6, 2, 3, 4, 3, 2, 1, 1, 2, 4, 6, 2, 6, 4, 3, 2, 5, 5, 1, 2, 1, 4, 5, 1, 4, 4, 5, 6, 2, 3, 2, 3, 6, 5, 2, 4, 5, 3, 2, 4, 5, 6, 5, 1, 4, 3, 1, 3, 2, 1, 3, 2, 2, 3, 3, 6, 5, 4, 4, 2, 4, 2, 2, 5, 2, 5, 5, 4, 2, 6, 2, 3, 3, 3, 3, 1, 4, 3, 3, 2, 1, 3, 3, 2, 5, 4, 2, 3, 6, 1, 5, 3, 4, 6, 3, 4, 4, 3, 6, 5, 3, 4, 6, 6, 5, 6, 1, 2, 2, 1, 3, 6, 4, 4, 6, 2, 2, 5, 4, 1, 4, 4, 4, 4, 4, 4, 5, 3, 6, 2, 6, 4, 5, 1, 5, 5, 3, 1, 4, 1, 3, 5, 3, 6, 3, 6, 2, 5, 2, 3, 2, 1, 1, 4, 2, 4, 3, 2, 6, 3, 4, 6, 5, 5, 5, 6, 3, 4, 6, 1, 4, 5, 3, 1, 2, 4, 6, 2, 4, 1, 6, 5, 5, 1, 2, 2, 5, 4, 4, 6, 2, 4, 2, 3, 1, 1, 3, 1, 4, 4, 6, 4, 6, 5, 2, 2, 4, 6, 2, 5, 4, 1, 5, 4, 2, 1, 6, 3, 3, 1, 5, 4, 2, 2, 1, 6, 5, 4, 1, 3, 4, 1, 4, 2, 6, 4, 1, 4, 1, 3, 1, 1, 2, 3, 1, 1, 2, 2, 4, 1, 3, 4, 5, 6, 1, 5, 5, 6, 4, 6, 1, 5, 1, 2, 5, 3, 4, 5, 1, 3, 1, 3, 2, 2, 4, 6, 5, 2, 6, 4, 3, 1, 3, 2, 6, 1, 5, 3, 4, 6, 6, 4, 1, 4, 5, 2, 5, 3, 2, 5, 6, 6, 6, 1, 2, 2, 3, 4, 5, 6, 2, 5, 4, 4, 6, 3, 1, 6, 2, 6, 2, 2, 4, 2, 1, 1, 3, 6, 1, 1, 6, 1, 1, 6, 5, 1, 5, 3, 1, 5, 1, 5, 5, 2, 5, 2, 1, 4, 2, 4, 1, 3, 6, 4, 5, 5, 3, 5, 3, 4, 1, 2, 6, 2, 3, 6, 4, 2, 3, 2, 5, 4, 2, 5, 1, 1, 3, 4, 6, 2, 1, 1, 5, 2, 5, 3, 5]\n"
     ]
    }
   ],
   "source": [
    "#list comprehension for rolling a die 600 times, considering\n",
    "# no bias exists between the occurence of any face\n",
    "\n",
    "##remeber numpy array is much better than list \n",
    "rolls = [random.randrange(1, 7) for i in range(600)]\n",
    "print(rolls)"
   ]
  },
  {
   "cell_type": "code",
   "execution_count": 8,
   "metadata": {},
   "outputs": [],
   "source": [
    "rolls = [random.randrange(1, 7) for i in range(60000)]"
   ]
  },
  {
   "cell_type": "code",
   "execution_count": 9,
   "metadata": {},
   "outputs": [
    {
     "data": {
      "image/png": "[encoded data removed]",
      "text/plain": [
       "<Figure size 432x288 with 1 Axes>"
      ]
     },
     "metadata": {},
     "output_type": "display_data"
    }
   ],
   "source": [
    "#clears the plot\n",
    "plt.cla()"
   ]
  },
  {
   "cell_type": "code",
   "execution_count": 10,
   "metadata": {},
   "outputs": [
    {
     "name": "stdout",
     "output_type": "stream",
     "text": [
      "Couldn't evaluate or find in history: 24\n"
     ]
    }
   ],
   "source": [
    "#recall snippet 24\n",
    "%recall 24"
   ]
  },
  {
   "cell_type": "code",
   "execution_count": null,
   "metadata": {},
   "outputs": [],
   "source": [
    "24"
   ]
  },
  {
   "cell_type": "code",
   "execution_count": 11,
   "metadata": {},
   "outputs": [
    {
     "data": {
      "text/plain": [
       "24"
      ]
     },
     "execution_count": 11,
     "metadata": {},
     "output_type": "execute_result"
    }
   ],
   "source": [
    "24"
   ]
  },
  {
   "cell_type": "code",
   "execution_count": 12,
   "metadata": {},
   "outputs": [
    {
     "data": {
      "text/plain": [
       "(0.0, 20208.0)"
      ]
     },
     "execution_count": 12,
     "metadata": {},
     "output_type": "execute_result"
    },
    {
     "data": {
      "image/png": "[encoded data removed]",
      "text/plain": [
       "<Figure size 432x288 with 1 Axes>"
      ]
     },
     "metadata": {},
     "output_type": "display_data"
    }
   ],
   "source": [
    "\n",
    "#unique counts the unique values, and return_counts count occurence of each one\n",
    "values, frequency = np.unique(rolls, return_counts = True)\n",
    "title  = f\"Rolling a die {len(rolls)} times\"\n",
    "sns.set_style(\"whitegrid\")\n",
    "axes = sns.barplot(x=values, \n",
    "                   y=frequency, \n",
    "                   )\n",
    "axes.set_title(title)\n",
    "axes.set(xlabel =\"Die value\",\n",
    "         ylabel = \"Frequency\")\n",
    "axes.set_ylim(top=max(frequency* 2))"
   ]
  },
  {
   "cell_type": "code",
   "execution_count": 13,
   "metadata": {},
   "outputs": [],
   "source": [
    "#save snippet starting from 1 to 29\n",
    "#%save graph.py 1-29\n"
   ]
  },
  {
   "cell_type": "code",
   "execution_count": 14,
   "metadata": {},
   "outputs": [
    {
     "name": "stdout",
     "output_type": "stream",
     "text": [
      "913 ms ± 113 ms per loop (mean ± std. dev. of 7 runs, 1 loop each)\n",
      "17.7 ms ± 926 µs per loop (mean ± std. dev. of 7 runs, 100 loops each)\n"
     ]
    }
   ],
   "source": [
    "##working with numpy arrays, they are faster %timeit measures time\n",
    "##involved\n",
    "%timeit sum([x for x in range(10000000)])\n",
    "\n",
    "%timeit np.arange(10000000).sum()"
   ]
  },
  {
   "cell_type": "code",
   "execution_count": 15,
   "metadata": {},
   "outputs": [
    {
     "data": {
      "text/plain": [
       "array([2, 6])"
      ]
     },
     "execution_count": 15,
     "metadata": {},
     "output_type": "execute_result"
    }
   ],
   "source": [
    "##broadcasting with array\n",
    "np.array([1, 2]) * np.array([2,3])"
   ]
  },
  {
   "cell_type": "code",
   "execution_count": 16,
   "metadata": {},
   "outputs": [
    {
     "data": {
      "text/plain": [
       "80.41666666666667"
      ]
     },
     "execution_count": 16,
     "metadata": {},
     "output_type": "execute_result"
    }
   ],
   "source": [
    "##zero axis in array is column axis\n",
    "##one axis in array is row axis\n",
    "\n",
    "grades = np.random.randint(60, 100, 12).reshape(3,4)\n",
    "grades.mean()"
   ]
  },
  {
   "cell_type": "code",
   "execution_count": 17,
   "metadata": {},
   "outputs": [
    {
     "data": {
      "text/plain": [
       "array([71.66666667, 92.33333333, 79.33333333, 78.33333333])"
      ]
     },
     "execution_count": 17,
     "metadata": {},
     "output_type": "execute_result"
    }
   ],
   "source": [
    "grades.mean(axis = 0)"
   ]
  },
  {
   "cell_type": "code",
   "execution_count": 18,
   "metadata": {},
   "outputs": [
    {
     "name": "stdout",
     "output_type": "stream",
     "text": [
      "96\n",
      "[80 87 74 62]\n",
      "[[66 96 66 97]\n",
      " [80 87 74 62]]\n",
      "[[66 96 66 97]\n",
      " [69 94 98 76]]\n",
      "[66 80 69]\n",
      "[[96]\n",
      " [87]\n",
      " [94]]\n",
      "[[66 66]\n",
      " [80 74]\n",
      " [69 98]]\n"
     ]
    }
   ],
   "source": [
    "##indexing and slicing\n",
    "print(grades[0,1]) #pick first column secon row value\n",
    "print(grades[1])   #pick first row\n",
    "print(grades[0:2]) #pick first and second row\n",
    "print(grades[[0, 2]]) #pick row 1 and row 3, used for non-contigious\n",
    "print(grades[:, 0]) #all row first column\n",
    "print(grades[:, 1:2]) #all row, first and second column\n",
    "print(grades[:, [0,2]]) #all row and first and third column, used for non continious selection"
   ]
  },
  {
   "cell_type": "code",
   "execution_count": 19,
   "metadata": {},
   "outputs": [],
   "source": [
    "##Shallow copies and deep copies\n",
    "#In shallow copies modification is seen in both original and copy\n",
    "#in deep copy, a phyiscally different object is made\n",
    "\n",
    "#slicing, indexing creat shallow copy\n",
    "#using copy function or deepcopy function from copy module creates deep copy\n"
   ]
  },
  {
   "cell_type": "code",
   "execution_count": 20,
   "metadata": {},
   "outputs": [],
   "source": [
    "#reshape and resize\n",
    "\n",
    "#reshape only changes the view, does not transform the data\n",
    "# resize transfroms the data"
   ]
  },
  {
   "cell_type": "code",
   "execution_count": 21,
   "metadata": {},
   "outputs": [
    {
     "name": "stdout",
     "output_type": "stream",
     "text": [
      "[66 96 66 97 80 87 74 62 69 94 98 76]\n",
      "[[66 96 66 97]\n",
      " [80 87 74 62]\n",
      " [69 94 98 76]]\n"
     ]
    }
   ],
   "source": [
    "##flatten and ravel changes array to one dimensianal\n",
    "#flatten does shallow copy\n",
    "#ravel does deep copy\n",
    "\n",
    "print(grades.flatten())\n",
    "print(grades)\n"
   ]
  },
  {
   "cell_type": "code",
   "execution_count": 22,
   "metadata": {},
   "outputs": [
    {
     "name": "stdout",
     "output_type": "stream",
     "text": [
      "[[66 80 69]\n",
      " [96 87 94]\n",
      " [66 74 98]\n",
      " [97 62 76]]\n",
      "[[66 80 69]\n",
      " [96 87 94]\n",
      " [66 74 98]\n",
      " [97 62 76]]\n"
     ]
    }
   ],
   "source": [
    "#transposing column and rows\n",
    "\n",
    "print(grades.transpose())\n",
    "print(grades.T)"
   ]
  },
  {
   "cell_type": "code",
   "execution_count": 23,
   "metadata": {},
   "outputs": [],
   "source": [
    "##horizontal and vertical stacking \n",
    "#np.hstack((a, a))\n",
    "#np.vstack((a, a))"
   ]
  },
  {
   "cell_type": "code",
   "execution_count": 24,
   "metadata": {},
   "outputs": [
    {
     "data": {
      "text/plain": [
       "array([93, 72])"
      ]
     },
     "execution_count": 24,
     "metadata": {},
     "output_type": "execute_result"
    }
   ],
   "source": [
    "##pandas dataframe has index by defualt\n",
    "##if you want to select specific rows, you can use loc and iloc\n",
    "##loc is used if you use named index\n",
    "##iloc is used if you use index\n",
    "grades = np.random.randint(60, 100, 12).reshape(3,4)\n",
    "type(grades)\n",
    "grades[0, [1,2]]"
   ]
  },
  {
   "cell_type": "code",
   "execution_count": 25,
   "metadata": {},
   "outputs": [],
   "source": [
    "import pandas as pd\n",
    "panda_dataframe = pd.DataFrame(grades)"
   ]
  },
  {
   "cell_type": "code",
   "execution_count": 26,
   "metadata": {},
   "outputs": [
    {
     "data": {
      "text/html": [
       "<div>\n",
       "<style scoped>\n",
       "    .dataframe tbody tr th:only-of-type {\n",
       "        vertical-align: middle;\n",
       "    }\n",
       "\n",
       "    .dataframe tbody tr th {\n",
       "        vertical-align: top;\n",
       "    }\n",
       "\n",
       "    .dataframe thead th {\n",
       "        text-align: right;\n",
       "    }\n",
       "</style>\n",
       "<table border=\"1\" class=\"dataframe\">\n",
       "  <thead>\n",
       "    <tr style=\"text-align: right;\">\n",
       "      <th></th>\n",
       "      <th>0</th>\n",
       "      <th>1</th>\n",
       "      <th>2</th>\n",
       "      <th>3</th>\n",
       "    </tr>\n",
       "  </thead>\n",
       "  <tbody>\n",
       "    <tr>\n",
       "      <th>0</th>\n",
       "      <td>NaN</td>\n",
       "      <td>93.0</td>\n",
       "      <td>NaN</td>\n",
       "      <td>91.0</td>\n",
       "    </tr>\n",
       "    <tr>\n",
       "      <th>1</th>\n",
       "      <td>NaN</td>\n",
       "      <td>NaN</td>\n",
       "      <td>NaN</td>\n",
       "      <td>97.0</td>\n",
       "    </tr>\n",
       "    <tr>\n",
       "      <th>2</th>\n",
       "      <td>91.0</td>\n",
       "      <td>83.0</td>\n",
       "      <td>NaN</td>\n",
       "      <td>NaN</td>\n",
       "    </tr>\n",
       "  </tbody>\n",
       "</table>\n",
       "</div>"
      ],
      "text/plain": [
       "      0     1   2     3\n",
       "0   NaN  93.0 NaN  91.0\n",
       "1   NaN   NaN NaN  97.0\n",
       "2  91.0  83.0 NaN   NaN"
      ]
     },
     "execution_count": 26,
     "metadata": {},
     "output_type": "execute_result"
    }
   ],
   "source": [
    "##selecting only 2 row\n",
    "panda_dataframe[(panda_dataframe > 80)]"
   ]
  },
  {
   "cell_type": "code",
   "execution_count": 30,
   "metadata": {},
   "outputs": [],
   "source": [
    "panda_dataframe.describe()\n",
    "pd.set_option(\"precision\", 2) ##when using describe, let the output to be rounded to two digits"
   ]
  },
  {
   "cell_type": "code",
   "execution_count": 31,
   "metadata": {},
   "outputs": [
    {
     "data": {
      "text/html": [
       "<div>\n",
       "<style scoped>\n",
       "    .dataframe tbody tr th:only-of-type {\n",
       "        vertical-align: middle;\n",
       "    }\n",
       "\n",
       "    .dataframe tbody tr th {\n",
       "        vertical-align: top;\n",
       "    }\n",
       "\n",
       "    .dataframe thead th {\n",
       "        text-align: right;\n",
       "    }\n",
       "</style>\n",
       "<table border=\"1\" class=\"dataframe\">\n",
       "  <thead>\n",
       "    <tr style=\"text-align: right;\">\n",
       "      <th></th>\n",
       "      <th>0</th>\n",
       "      <th>1</th>\n",
       "      <th>2</th>\n",
       "      <th>3</th>\n",
       "    </tr>\n",
       "  </thead>\n",
       "  <tbody>\n",
       "    <tr>\n",
       "      <th>count</th>\n",
       "      <td>3.00</td>\n",
       "      <td>3.00</td>\n",
       "      <td>3.00</td>\n",
       "      <td>3.00</td>\n",
       "    </tr>\n",
       "    <tr>\n",
       "      <th>mean</th>\n",
       "      <td>78.33</td>\n",
       "      <td>84.00</td>\n",
       "      <td>72.33</td>\n",
       "      <td>83.67</td>\n",
       "    </tr>\n",
       "    <tr>\n",
       "      <th>std</th>\n",
       "      <td>13.01</td>\n",
       "      <td>8.54</td>\n",
       "      <td>5.51</td>\n",
       "      <td>18.15</td>\n",
       "    </tr>\n",
       "    <tr>\n",
       "      <th>min</th>\n",
       "      <td>65.00</td>\n",
       "      <td>76.00</td>\n",
       "      <td>67.00</td>\n",
       "      <td>63.00</td>\n",
       "    </tr>\n",
       "    <tr>\n",
       "      <th>25%</th>\n",
       "      <td>72.00</td>\n",
       "      <td>79.50</td>\n",
       "      <td>69.50</td>\n",
       "      <td>77.00</td>\n",
       "    </tr>\n",
       "    <tr>\n",
       "      <th>50%</th>\n",
       "      <td>79.00</td>\n",
       "      <td>83.00</td>\n",
       "      <td>72.00</td>\n",
       "      <td>91.00</td>\n",
       "    </tr>\n",
       "    <tr>\n",
       "      <th>75%</th>\n",
       "      <td>85.00</td>\n",
       "      <td>88.00</td>\n",
       "      <td>75.00</td>\n",
       "      <td>94.00</td>\n",
       "    </tr>\n",
       "    <tr>\n",
       "      <th>max</th>\n",
       "      <td>91.00</td>\n",
       "      <td>93.00</td>\n",
       "      <td>78.00</td>\n",
       "      <td>97.00</td>\n",
       "    </tr>\n",
       "  </tbody>\n",
       "</table>\n",
       "</div>"
      ],
      "text/plain": [
       "           0      1      2      3\n",
       "count   3.00   3.00   3.00   3.00\n",
       "mean   78.33  84.00  72.33  83.67\n",
       "std    13.01   8.54   5.51  18.15\n",
       "min    65.00  76.00  67.00  63.00\n",
       "25%    72.00  79.50  69.50  77.00\n",
       "50%    79.00  83.00  72.00  91.00\n",
       "75%    85.00  88.00  75.00  94.00\n",
       "max    91.00  93.00  78.00  97.00"
      ]
     },
     "execution_count": 31,
     "metadata": {},
     "output_type": "execute_result"
    }
   ],
   "source": [
    "panda_dataframe.describe()"
   ]
  },
  {
   "cell_type": "code",
   "execution_count": 3,
   "metadata": {},
   "outputs": [],
   "source": [
    "##text file processing\n",
    "##you can write text file using open and with\n",
    "\n",
    "with open('grades.txt', mode= \"w\") as grades:\n",
    "    grades.write(\"1 Red A\\n\")\n",
    "    grades.write(\"2 Green B\\n\")\n",
    "    grades.write(\"3 White A\\n\")"
   ]
  },
  {
   "cell_type": "code",
   "execution_count": 4,
   "metadata": {},
   "outputs": [
    {
     "name": "stdout",
     "output_type": "stream",
     "text": [
      "1 Red A\n",
      "2 Green B\n",
      "3 White A\n"
     ]
    }
   ],
   "source": [
    "!more grades.txt"
   ]
  },
  {
   "cell_type": "code",
   "execution_count": 22,
   "metadata": {},
   "outputs": [
    {
     "name": "stdout",
     "output_type": "stream",
     "text": [
      "Index     color_name     grade\n",
      "1         Red                A\n",
      "2         Green              B\n",
      "3         White              A\n"
     ]
    }
   ],
   "source": [
    "with open(\"grades.txt\", mode = 'r') as grades:\n",
    "    print(f\"{'Index':<10}{'color_name':<10}{'grade':>10}\")\n",
    "    for value in grades:\n",
    "        index, color, gr= value.split()\n",
    "        print(f\"{index:<10}{color:<10}{gr:>10}\")"
   ]
  },
  {
   "cell_type": "code",
   "execution_count": 30,
   "metadata": {},
   "outputs": [],
   "source": [
    "##update text files\n",
    "grades = open(\"grades.txt\", \"r\")\n",
    "temp_file = open ('temp.txt', \"w\")"
   ]
  },
  {
   "cell_type": "code",
   "execution_count": 31,
   "metadata": {},
   "outputs": [],
   "source": [
    "with grades, temp_file:\n",
    "    for col in grades:\n",
    "        index, color, grade = col.split()\n",
    "        if color != \"Green\":\n",
    "            temp_file.write(col)\n",
    "        else:\n",
    "            new_color = \" \".join([index, \"Blue\", grade])\n",
    "            temp_file.write(new_color +'\\n')\n",
    "            "
   ]
  },
  {
   "cell_type": "code",
   "execution_count": 66,
   "metadata": {},
   "outputs": [],
   "source": [
    "accounts_dic = {\"accounts\": [\n",
    "{\"account\": 100, \"name\":'Jones'},\n",
    "{\"account\": 200, \"name\":'Sujan'}\n",
    "]}\n",
    "\n",
    "import json\n",
    "with open(\"account.json\", \"w\") as ad:\n",
    "    json.dump(accounts_dic, ad)\n",
    " \n",
    "  \n"
   ]
  },
  {
   "cell_type": "code",
   "execution_count": 67,
   "metadata": {},
   "outputs": [],
   "source": [
    "##practice the json\n",
    "\n",
    "grades_dict = {\"gradebook\":[\n",
    "    {\"studentid\":1, \"name\": \"Red\", \"grade\": 'A'},\n",
    "    {\"studentid\":2, \"name\": \"Green\",\"grade\":'B'},\n",
    "    {\"studentid\":3, \"name\": \"white\", \"grade\":'A'}\n",
    "]}"
   ]
  },
  {
   "cell_type": "code",
   "execution_count": 71,
   "metadata": {},
   "outputs": [
    {
     "name": "stdout",
     "output_type": "stream",
     "text": [
      "{\n",
      "    \"gradebook\": [\n",
      "        {\n",
      "            \"studentid\": 1,\n",
      "            \"name\": \"Red\",\n",
      "            \"grade\": \"A\"\n",
      "        },\n",
      "        {\n",
      "            \"studentid\": 2,\n",
      "            \"name\": \"Green\",\n",
      "            \"grade\": \"B\"\n",
      "        },\n",
      "        {\n",
      "            \"studentid\": 3,\n",
      "            \"name\": \"white\",\n",
      "            \"grade\": \"A\"\n",
      "        }\n",
      "    ]\n",
      "}\n"
     ]
    }
   ],
   "source": [
    "with open(\"grades.json\", \"w\") as g: \n",
    "    json.dump(grades_dict, g)\n",
    "\n",
    "with open('grades.json', 'r') as h:\n",
    "    print(json.dumps(json.load(h), indent = 4))"
   ]
  }
 ],
 "metadata": {
  "kernelspec": {
   "display_name": "base",
   "language": "python",
   "name": "python3"
  },
  "language_info": {
   "codemirror_mode": {
    "name": "ipython",
    "version": 3
   },
   "file_extension": ".py",
   "mimetype": "text/x-python",
   "name": "python",
   "nbconvert_exporter": "python",
   "pygments_lexer": "ipython3",
   "version": "3.8.8"
  },
  "orig_nbformat": 4
 },
 "nbformat": 4,
 "nbformat_minor": 2
}
